{
  "cells": [
    {
      "cell_type": "markdown",
      "metadata": {
        "id": "view-in-github",
        "colab_type": "text"
      },
      "source": [
        "<a href=\"https://colab.research.google.com/github/harshita20022002/gtete/blob/main/LSTM_Stock_Price_Prediction_Model_(using_pandas_ta).ipynb\" target=\"_parent\"><img src=\"https://colab.research.google.com/assets/colab-badge.svg\" alt=\"Open In Colab\"/></a>"
      ]
    },
    {
      "cell_type": "markdown",
      "source": [],
      "metadata": {
        "id": "NlSqPMhssv5k"
      }
    },
    {
      "cell_type": "code",
      "source": [
        "# Uninstall existing pandas_ta and numpy\n",
        "print(\"Uninstalling existing pandas_ta and numpy...\")\n",
        "!pip uninstall -y pandas_ta numpy\n",
        "print(\"Uninstallation complete.\")\n",
        "\n",
        "# Install a compatible numpy version that works with pandas_ta and common Colab packages\n",
        "# numpy 1.26.4 is a good balance for current Colab environments as of mid-2024\n",
        "print(\"Installing numpy version 1.26.4...\")\n",
        "!pip install numpy==1.26.4\n",
        "print(\"Numpy installed.\")\n",
        "\n",
        "# Install pandas_ta (it should now use the compatible numpy)\n",
        "print(\"Installing pandas_ta...\")\n",
        "!pip install pandas_ta\n",
        "print(\"pandas_ta installed.\")"
      ],
      "metadata": {
        "colab": {
          "base_uri": "https://localhost:8080/",
          "height": 616
        },
        "id": "WXfpj9AxsadT",
        "outputId": "3c0bb602-5b93-4ec5-d1f0-e807c550e7ea"
      },
      "execution_count": null,
      "outputs": [
        {
          "output_type": "stream",
          "name": "stdout",
          "text": [
            "Uninstalling existing pandas_ta and numpy...\n",
            "\u001b[33mWARNING: Skipping pandas_ta as it is not installed.\u001b[0m\u001b[33m\n",
            "\u001b[0mFound existing installation: numpy 1.23.5\n",
            "Uninstalling numpy-1.23.5:\n",
            "  Successfully uninstalled numpy-1.23.5\n",
            "Uninstallation complete.\n",
            "Installing numpy version 1.26.4...\n",
            "Collecting numpy==1.26.4\n",
            "  Downloading numpy-1.26.4-cp311-cp311-manylinux_2_17_x86_64.manylinux2014_x86_64.whl.metadata (61 kB)\n",
            "\u001b[2K     \u001b[90m━━━━━━━━━━━━━━━━━━━━━━━━━━━━━━━━━━━━━━━━\u001b[0m \u001b[32m61.0/61.0 kB\u001b[0m \u001b[31m3.1 MB/s\u001b[0m eta \u001b[36m0:00:00\u001b[0m\n",
            "\u001b[?25hDownloading numpy-1.26.4-cp311-cp311-manylinux_2_17_x86_64.manylinux2014_x86_64.whl (18.3 MB)\n",
            "\u001b[2K   \u001b[90m━━━━━━━━━━━━━━━━━━━━━━━━━━━━━━━━━━━━━━━━\u001b[0m \u001b[32m18.3/18.3 MB\u001b[0m \u001b[31m75.7 MB/s\u001b[0m eta \u001b[36m0:00:00\u001b[0m\n",
            "\u001b[?25hInstalling collected packages: numpy\n",
            "\u001b[31mERROR: pip's dependency resolver does not currently take into account all the packages that are installed. This behaviour is the source of the following dependency conflicts.\n",
            "thinc 8.3.6 requires numpy<3.0.0,>=2.0.0, but you have numpy 1.26.4 which is incompatible.\u001b[0m\u001b[31m\n",
            "\u001b[0mSuccessfully installed numpy-1.26.4\n"
          ]
        },
        {
          "output_type": "display_data",
          "data": {
            "application/vnd.colab-display-data+json": {
              "pip_warning": {
                "packages": [
                  "numpy"
                ]
              },
              "id": "cdd7d26fafd8448cb699c2e2ce3852cb"
            }
          },
          "metadata": {}
        },
        {
          "output_type": "stream",
          "name": "stdout",
          "text": [
            "Numpy installed.\n",
            "Installing pandas_ta...\n",
            "Collecting pandas_ta\n",
            "  Using cached pandas_ta-0.3.14b0-py3-none-any.whl\n",
            "Requirement already satisfied: pandas in /usr/local/lib/python3.11/dist-packages (from pandas_ta) (2.2.2)\n",
            "Requirement already satisfied: numpy>=1.23.2 in /usr/local/lib/python3.11/dist-packages (from pandas->pandas_ta) (1.26.4)\n",
            "Requirement already satisfied: python-dateutil>=2.8.2 in /usr/local/lib/python3.11/dist-packages (from pandas->pandas_ta) (2.9.0.post0)\n",
            "Requirement already satisfied: pytz>=2020.1 in /usr/local/lib/python3.11/dist-packages (from pandas->pandas_ta) (2025.2)\n",
            "Requirement already satisfied: tzdata>=2022.7 in /usr/local/lib/python3.11/dist-packages (from pandas->pandas_ta) (2025.2)\n",
            "Requirement already satisfied: six>=1.5 in /usr/local/lib/python3.11/dist-packages (from python-dateutil>=2.8.2->pandas->pandas_ta) (1.17.0)\n",
            "Installing collected packages: pandas_ta\n",
            "Successfully installed pandas_ta-0.3.14b0\n",
            "pandas_ta installed.\n"
          ]
        }
      ]
    },
    {
      "cell_type": "code",
      "source": [
        "import yfinance as yf\n",
        "import pandas as pd\n",
        "import pandas_ta as ta\n",
        "\n",
        "def get_stock_data_and_indicators(ticker, start_date, end_date):\n",
        "    \"\"\"\n",
        "    Fetches historical stock data and applies various technical indicators.\n",
        "\n",
        "    Args:\n",
        "        ticker (str): Stock ticker symbol (e.g., 'AAPL').\n",
        "        start_date (str): Start date for data fetching (YYYY-MM-DD).\n",
        "        end_date (str): End date for data fetching (YYYY-MM-DD).\n",
        "\n",
        "    Returns:\n",
        "        pandas.DataFrame: DataFrame with stock data and technical indicators.\n",
        "    \"\"\"\n",
        "    print(f\"Fetching historical data for {ticker} from {start_date} to {end_date}...\")\n",
        "    try:\n",
        "        # Fetch data using yfinance\n",
        "        # FutureWarning: YF.download() has changed argument auto_adjust default to True\n",
        "        # This warning means 'auto_adjust' is now True by default, which is generally desired\n",
        "        # as it adjusts for splits and dividends.\n",
        "        data = yf.download(ticker, start=start_date, end=end_date)\n",
        "        print(\"Data fetched successfully. Head of the data:\")\n",
        "        print(data.head())\n",
        "\n",
        "        # Handle MultiIndex columns if present\n",
        "        if isinstance(data.columns, pd.MultiIndex):\n",
        "            print(\"Detected MultiIndex columns. Attempting to flatten them...\")\n",
        "            # Flatten MultiIndex columns by joining level names\n",
        "            data.columns = ['_'.join(col).strip() for col in data.columns.values]\n",
        "            print(\"MultiIndex columns flattened.\")\n",
        "\n",
        "        # Convert column names to lowercase for consistency\n",
        "        data.columns = [col.lower() for col in data.columns]\n",
        "        print(\"Column names converted to lowercase.\")\n",
        "\n",
        "        # Select core features. Adjust these based on your actual column names after flattening.\n",
        "        # Common expected columns are 'open', 'high', 'low', 'close', 'volume'\n",
        "        # Ensure 'adj close' is handled if 'close' isn't adjusted\n",
        "        required_cols = ['open', 'high', 'low', 'close', 'volume']\n",
        "        # If 'adj close' is the primary price, use it for calculations.\n",
        "        # pandas_ta usually uses 'close' by default, which should ideally be adjusted.\n",
        "        if 'adj close' in data.columns:\n",
        "            data.rename(columns={'adj close': 'close'}, inplace=True)\n",
        "            print(\"Renamed 'adj close' to 'close' for consistency.\")\n",
        "\n",
        "        data = data[[col for col in required_cols if col in data.columns]].copy()\n",
        "\n",
        "        print(\"\\nDataFrame after robust column handling and selecting core features:\")\n",
        "        print(data.head())\n",
        "\n",
        "        print(\"\\nApplying technical indicators and adding custom features using pandas_ta...\")\n",
        "\n",
        "        # --- Custom Features ---\n",
        "        data['daily_range'] = data['high'] - data['low']\n",
        "        print(\"Added 'daily_range' column.\")\n",
        "\n",
        "        # Using .loc to avoid SettingWithCopyWarning\n",
        "        data.loc[:, 'is_up_day'] = (data['close'] > data['open']).astype(int)\n",
        "        print(\"Added 'is_up_day' column (0 or 1).\")\n",
        "\n",
        "        # Price volatility (e.g., 5-day rolling standard deviation of daily returns)\n",
        "        data.loc[:, 'daily_return'] = data['close'].pct_change()\n",
        "        data.loc[:, 'price_volatility_5d'] = data['daily_return'].rolling(window=5).std()\n",
        "        print(\"Added 'price_volatility_5d' column.\")\n",
        "\n",
        "\n",
        "        # --- pandas_ta Technical Indicators ---\n",
        "\n",
        "        # Add all common indicators to the DataFrame. This is a quick way to add many.\n",
        "        # The 'append=True' argument directly adds the indicators to your DataFrame.\n",
        "        # This will add columns like 'SMA_10', 'EMA_20', 'RSI_14', 'MACD_12_26_9', 'MACDH_12_26_9', 'MACDS_12_26_9' etc.\n",
        "        data.ta.strategy(\"All\", append=True)\n",
        "        print(\"Added various indicators using ta.strategy('All').\")\n",
        "\n",
        "        # Specifically for MACD, if you want to ensure the columns are present and named correctly,\n",
        "        # you can call it directly and inspect the resulting DataFrame.\n",
        "        # macd_output = ta.macd(data['close'], append=True)\n",
        "        # print(f\"MACD columns generated: {macd_output.columns.tolist()}\")\n",
        "\n",
        "        # Verification and Renaming (if necessary for MACD, though 'All' strategy should include it)\n",
        "        # Check if MACD columns exist and rename if pandas_ta produces different names\n",
        "        expected_macd_cols = ['MACD_12_26_9', 'MACDH_12_26_9', 'MACDS_12_26_9']\n",
        "        found_macd_cols = [col for col in expected_macd_cols if col in data.columns]\n",
        "\n",
        "        if len(found_macd_cols) < len(expected_macd_cols):\n",
        "            print(\"\\nWarning: Not all expected MACD columns were found. Recalculating MACD explicitly.\")\n",
        "            # Recalculate MACD and ensure it's merged\n",
        "            macd_series = ta.macd(data['close'], append=False) # append=False returns a DataFrame\n",
        "            # If macd_series is not None and not empty, merge it\n",
        "            if macd_series is not None and not macd_series.empty:\n",
        "                # Ensure we don't have duplicate columns before joining\n",
        "                for col in macd_series.columns:\n",
        "                    if col in data.columns:\n",
        "                        data.drop(columns=[col], inplace=True)\n",
        "                data = data.join(macd_series)\n",
        "                print(\"Explicitly added MACD, MACDH, MACDS columns.\")\n",
        "            else:\n",
        "                print(\"Could not explicitly add MACD columns.\")\n",
        "\n",
        "        # After ensuring MACD columns are present, you can safely access them\n",
        "        if 'MACDS_12_26_9' in data.columns:\n",
        "            print(\"\\n'MACDS_12_26_9' column successfully created and found.\")\n",
        "            print(\"Head of MACD related columns:\")\n",
        "            print(data[['MACD_12_26_9', 'MACDH_12_26_9', 'MACDS_12_26_9']].tail())\n",
        "        else:\n",
        "            print(\"\\nError: 'MACDS_12_26_9' column still not found after attempts.\")\n",
        "\n",
        "        # Drop any NaN values introduced by rolling windows or indicators\n",
        "        data.dropna(inplace=True)\n",
        "        print(\"\\nNaN values dropped.\")\n",
        "        print(\"\\nFinal DataFrame head:\")\n",
        "        print(data.head())\n",
        "        print(\"\\nFinal DataFrame Info:\")\n",
        "        data.info()\n",
        "\n",
        "        return data\n",
        "\n",
        "    except Exception as e:\n",
        "        print(f\"An error occurred: {e}\")\n",
        "        return None\n",
        "\n",
        "# Example usage:\n",
        "ticker_symbol = 'AAPL'\n",
        "start = '2015-01-01'\n",
        "end = '2024-06-20'\n",
        "\n",
        "df_aapl = get_stock_data_and_indicators(ticker_symbol, start, end)\n",
        "\n",
        "if df_aapl is not None:\n",
        "    print(\"\\nData processing complete. DataFrame is ready for further analysis.\")\n"
      ],
      "outputs": [
        {
          "output_type": "stream",
          "name": "stderr",
          "text": [
            "/tmp/ipython-input-4-345183015.py:23: FutureWarning: YF.download() has changed argument auto_adjust default to True\n",
            "  data = yf.download(ticker, start=start_date, end=end_date)\n",
            "\r[*********************100%***********************]  1 of 1 completed"
          ]
        },
        {
          "output_type": "stream",
          "name": "stdout",
          "text": [
            "Fetching historical data for AAPL from 2015-01-01 to 2024-06-20...\n",
            "Data fetched successfully. Head of the data:\n",
            "Price           Close       High        Low       Open     Volume\n",
            "Ticker           AAPL       AAPL       AAPL       AAPL       AAPL\n",
            "Date                                                             \n",
            "2015-01-02  24.288580  24.757334  23.848706  24.746226  212818400\n",
            "2015-01-05  23.604336  24.137516  23.417723  24.057539  257142000\n",
            "2015-01-06  23.606560  23.866485  23.244440  23.668764  263188400\n",
            "2015-01-07  23.937574  24.037545  23.704307  23.815387  160423600\n",
            "2015-01-08  24.857313  24.915075  24.148627  24.266372  237458000\n",
            "Detected MultiIndex columns. Attempting to flatten them...\n",
            "MultiIndex columns flattened.\n",
            "Column names converted to lowercase.\n",
            "\n",
            "DataFrame after robust column handling and selecting core features:\n",
            "Empty DataFrame\n",
            "Columns: []\n",
            "Index: [2015-01-02 00:00:00, 2015-01-05 00:00:00, 2015-01-06 00:00:00, 2015-01-07 00:00:00, 2015-01-08 00:00:00]\n",
            "\n",
            "Applying technical indicators and adding custom features using pandas_ta...\n",
            "An error occurred: 'high'\n"
          ]
        },
        {
          "output_type": "stream",
          "name": "stderr",
          "text": [
            "\n"
          ]
        }
      ],
      "execution_count": 4,
      "metadata": {
        "colab": {
          "base_uri": "https://localhost:8080/"
        },
        "id": "5nKaIouNr_CD",
        "outputId": "8ab66806-bc12-4858-cdac-e3291815804e"
      }
    },
    {
      "cell_type": "code",
      "source": [
        "pip install pandas_ta"
      ],
      "metadata": {
        "id": "KQro3tKesJA2"
      },
      "execution_count": null,
      "outputs": []
    },
    {
      "cell_type": "code",
      "source": [],
      "metadata": {
        "id": "HikNn3-BsJFu"
      },
      "execution_count": null,
      "outputs": []
    }
  ],
  "metadata": {
    "colab": {
      "provenance": [],
      "include_colab_link": true
    },
    "kernelspec": {
      "display_name": "Python 3",
      "name": "python3"
    }
  },
  "nbformat": 4,
  "nbformat_minor": 0
}